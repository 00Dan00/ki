{
 "cells": [
  {
   "cell_type": "markdown",
   "id": "3a8f927e",
   "metadata": {},
   "source": [
    "## Keras Sequential API\n",
    "\n",
    "The Keras Sequential API is the easiest way to create neural network models. Here’s a summary of its key characteristics:\n",
    "\n",
    "- **Simplest Approach**: Provides a straightforward way to build neural networks.\n",
    "- **Stack of Layers**: Models are defined as a linear stack of layers.\n",
    "- **Layer Connectivity**: Each layer has exactly one input and one output.\n",
    "- **Sequential Models**: Models are built as a sequence of layers.\n",
    "\n",
    "### Limitations\n",
    "\n",
    "- **No Multiple Inputs/Outputs**: Does not support models with multiple inputs or outputs.\n",
    "- **No Non-Linear Topologies**: Cannot create models with non-linear architectures, such as branches or shared layers.\n",
    "\n",
    "For more complex architectures, use the **Functional API**.\n",
    "\n"
   ]
  },
  {
   "cell_type": "code",
   "execution_count": 1,
   "id": "3ed11a24",
   "metadata": {},
   "outputs": [],
   "source": [
    "import tensorflow as tf\n",
    "import keras\n",
    "from keras import layers"
   ]
  },
  {
   "cell_type": "code",
   "execution_count": 3,
   "id": "32cf66b7",
   "metadata": {},
   "outputs": [
    {
     "name": "stdout",
     "output_type": "stream",
     "text": [
      "tf.Tensor(\n",
      "[[ 1.0121787  -0.98624694  1.176298   -1.0740286 ]\n",
      " [ 1.0121787  -0.98624694  1.176298   -1.0740286 ]\n",
      " [ 1.0121787  -0.98624694  1.176298   -1.0740286 ]], shape=(3, 4), dtype=float32)\n"
     ]
    }
   ],
   "source": [
    "# Define Sequential model with 3 layers. Each layer with 1 input and 1 output\n",
    "model = keras.Sequential(\n",
    "    [\n",
    "        layers.Dense(2, activation=\"relu\", name=\"layer1\"),\n",
    "        layers.Dense(3, activation=\"relu\", name=\"layer2\"),\n",
    "        layers.Dense(4, name=\"layer3\"),\n",
    "    ]\n",
    ")\n",
    "# Call model on a test input\n",
    "x = tf.ones((3, 3))\n",
    "y = model(x) # calling the model basicly just calls 1 layer after another"
   ]
  },
  {
   "cell_type": "code",
   "execution_count": 4,
   "id": "3a772bc2",
   "metadata": {},
   "outputs": [
    {
     "data": {
      "text/plain": [
       "[<Dense name=layer1, built=True>,\n",
       " <Dense name=layer2, built=True>,\n",
       " <Dense name=layer3, built=True>]"
      ]
     },
     "execution_count": 4,
     "metadata": {},
     "output_type": "execute_result"
    }
   ],
   "source": [
    "# show layers\n",
    "model.layers"
   ]
  },
  {
   "cell_type": "code",
   "execution_count": 5,
   "id": "1ac5514a",
   "metadata": {},
   "outputs": [
    {
     "data": {
      "text/plain": [
       "[<Dense name=layer1, built=True>,\n",
       " <Dense name=layer2, built=True>,\n",
       " <Dense name=layer3, built=True>,\n",
       " <Dense name=dense, built=True>]"
      ]
     },
     "execution_count": 5,
     "metadata": {},
     "output_type": "execute_result"
    }
   ],
   "source": [
    "model.add(layers.Dense(2, activation=\"relu\")) # adds another layer to the model\n",
    "model.layers"
   ]
  },
  {
   "cell_type": "code",
   "execution_count": 6,
   "id": "5575b1f8",
   "metadata": {},
   "outputs": [
    {
     "data": {
      "text/plain": [
       "[<Dense name=layer1, built=True>,\n",
       " <Dense name=layer2, built=True>,\n",
       " <Dense name=layer3, built=True>]"
      ]
     },
     "execution_count": 6,
     "metadata": {},
     "output_type": "execute_result"
    }
   ],
   "source": [
    "model.pop() # pops the latest layer\n",
    "model.layers"
   ]
  },
  {
   "cell_type": "markdown",
   "id": "8a9499c7",
   "metadata": {},
   "source": [
    "# Input Shapes"
   ]
  },
  {
   "cell_type": "code",
   "execution_count": 19,
   "id": "690d7fb3",
   "metadata": {},
   "outputs": [
    {
     "data": {
      "text/plain": [
       "[]"
      ]
     },
     "execution_count": 19,
     "metadata": {},
     "output_type": "execute_result"
    }
   ],
   "source": [
    "# When creating a model without specifiying the input size the weights don't get initialised \n",
    "layer = layers.Dense(3) # a Layer is also a model\n",
    "layer.weights  # Empty"
   ]
  },
  {
   "cell_type": "code",
   "execution_count": 23,
   "id": "1d0e1f1b",
   "metadata": {},
   "outputs": [
    {
     "data": {
      "text/plain": [
       "[<KerasVariable shape=(4, 3), dtype=float32, path=dense_3/kernel>,\n",
       " <KerasVariable shape=(3,), dtype=float32, path=dense_3/bias>]"
      ]
     },
     "execution_count": 23,
     "metadata": {},
     "output_type": "execute_result"
    }
   ],
   "source": [
    "x = tf.ones((1,4)) # batch of 1 with 4 input features\n",
    "y = layer(x)\n",
    "layer.weights # weights not initialised\n",
    "#model.summary() # also doesn't work yet"
   ]
  },
  {
   "cell_type": "code",
   "execution_count": 26,
   "id": "923bf0ec",
   "metadata": {},
   "outputs": [],
   "source": [
    "# now the input shape is defined and other shapes won't be accepted\n",
    "x = tf.ones((3,3))\n",
    "#y = layer(x) # error"
   ]
  },
  {
   "cell_type": "code",
   "execution_count": 28,
   "id": "0f98d741",
   "metadata": {},
   "outputs": [],
   "source": [
    "x = tf.ones((3,3,3,3,4)) # this actually works because tf ignores everything but the last 2 dimensions. Meaning\n",
    "# this is a batch size of 3 and 4 input features \n",
    "y = layer(x)"
   ]
  },
  {
   "cell_type": "code",
   "execution_count": 29,
   "id": "363a7b83",
   "metadata": {},
   "outputs": [
    {
     "data": {
      "text/html": [
       "<pre style=\"white-space:pre;overflow-x:auto;line-height:normal;font-family:Menlo,'DejaVu Sans Mono',consolas,'Courier New',monospace\"><span style=\"font-weight: bold\">Model: \"sequential_2\"</span>\n",
       "</pre>\n"
      ],
      "text/plain": [
       "\u001b[1mModel: \"sequential_2\"\u001b[0m\n"
      ]
     },
     "metadata": {},
     "output_type": "display_data"
    },
    {
     "data": {
      "text/html": [
       "<pre style=\"white-space:pre;overflow-x:auto;line-height:normal;font-family:Menlo,'DejaVu Sans Mono',consolas,'Courier New',monospace\">┏━━━━━━━━━━━━━━━━━━━━━━━━━━━━━━━━━┳━━━━━━━━━━━━━━━━━━━━━━━━┳━━━━━━━━━━━━━━━┓\n",
       "┃<span style=\"font-weight: bold\"> Layer (type)                    </span>┃<span style=\"font-weight: bold\"> Output Shape           </span>┃<span style=\"font-weight: bold\">       Param # </span>┃\n",
       "┡━━━━━━━━━━━━━━━━━━━━━━━━━━━━━━━━━╇━━━━━━━━━━━━━━━━━━━━━━━━╇━━━━━━━━━━━━━━━┩\n",
       "│ dense_4 (<span style=\"color: #0087ff; text-decoration-color: #0087ff\">Dense</span>)                 │ (<span style=\"color: #00d7ff; text-decoration-color: #00d7ff\">None</span>, <span style=\"color: #00af00; text-decoration-color: #00af00\">2</span>)              │            <span style=\"color: #00af00; text-decoration-color: #00af00\">10</span> │\n",
       "└─────────────────────────────────┴────────────────────────┴───────────────┘\n",
       "</pre>\n"
      ],
      "text/plain": [
       "┏━━━━━━━━━━━━━━━━━━━━━━━━━━━━━━━━━┳━━━━━━━━━━━━━━━━━━━━━━━━┳━━━━━━━━━━━━━━━┓\n",
       "┃\u001b[1m \u001b[0m\u001b[1mLayer (type)                   \u001b[0m\u001b[1m \u001b[0m┃\u001b[1m \u001b[0m\u001b[1mOutput Shape          \u001b[0m\u001b[1m \u001b[0m┃\u001b[1m \u001b[0m\u001b[1m      Param #\u001b[0m\u001b[1m \u001b[0m┃\n",
       "┡━━━━━━━━━━━━━━━━━━━━━━━━━━━━━━━━━╇━━━━━━━━━━━━━━━━━━━━━━━━╇━━━━━━━━━━━━━━━┩\n",
       "│ dense_4 (\u001b[38;5;33mDense\u001b[0m)                 │ (\u001b[38;5;45mNone\u001b[0m, \u001b[38;5;34m2\u001b[0m)              │            \u001b[38;5;34m10\u001b[0m │\n",
       "└─────────────────────────────────┴────────────────────────┴───────────────┘\n"
      ]
     },
     "metadata": {},
     "output_type": "display_data"
    },
    {
     "data": {
      "text/html": [
       "<pre style=\"white-space:pre;overflow-x:auto;line-height:normal;font-family:Menlo,'DejaVu Sans Mono',consolas,'Courier New',monospace\"><span style=\"font-weight: bold\"> Total params: </span><span style=\"color: #00af00; text-decoration-color: #00af00\">10</span> (40.00 B)\n",
       "</pre>\n"
      ],
      "text/plain": [
       "\u001b[1m Total params: \u001b[0m\u001b[38;5;34m10\u001b[0m (40.00 B)\n"
      ]
     },
     "metadata": {},
     "output_type": "display_data"
    },
    {
     "data": {
      "text/html": [
       "<pre style=\"white-space:pre;overflow-x:auto;line-height:normal;font-family:Menlo,'DejaVu Sans Mono',consolas,'Courier New',monospace\"><span style=\"font-weight: bold\"> Trainable params: </span><span style=\"color: #00af00; text-decoration-color: #00af00\">10</span> (40.00 B)\n",
       "</pre>\n"
      ],
      "text/plain": [
       "\u001b[1m Trainable params: \u001b[0m\u001b[38;5;34m10\u001b[0m (40.00 B)\n"
      ]
     },
     "metadata": {},
     "output_type": "display_data"
    },
    {
     "data": {
      "text/html": [
       "<pre style=\"white-space:pre;overflow-x:auto;line-height:normal;font-family:Menlo,'DejaVu Sans Mono',consolas,'Courier New',monospace\"><span style=\"font-weight: bold\"> Non-trainable params: </span><span style=\"color: #00af00; text-decoration-color: #00af00\">0</span> (0.00 B)\n",
       "</pre>\n"
      ],
      "text/plain": [
       "\u001b[1m Non-trainable params: \u001b[0m\u001b[38;5;34m0\u001b[0m (0.00 B)\n"
      ]
     },
     "metadata": {},
     "output_type": "display_data"
    }
   ],
   "source": [
    "# so in order to show the output without the need for a forward pass we can just specifiy the input shape\n",
    "model = keras.Sequential()\n",
    "model.add(keras.Input(shape=(4,)))\n",
    "model.add(layers.Dense(2, activation=\"relu\"))\n",
    "\n",
    "model.summary()\n"
   ]
  },
  {
   "cell_type": "code",
   "execution_count": 34,
   "id": "9467b9fe",
   "metadata": {},
   "outputs": [],
   "source": [
    "# get output from a certain layer\n",
    "initial_model = keras.Sequential(\n",
    "    [\n",
    "        keras.Input(shape=(250, 250, 3)),\n",
    "        layers.Conv2D(32, 5, strides=2, activation=\"relu\"),\n",
    "        layers.Conv2D(32, 3, activation=\"relu\", name=\"my_intermediate_layer\"),\n",
    "        layers.Conv2D(32, 3, activation=\"relu\"),\n",
    "    ]\n",
    ")\n",
    "\n",
    "# based on our model, get the output from the 2nd layer\n",
    "feature_extractor = keras.Model(\n",
    "    inputs=initial_model.inputs,\n",
    "    outputs=initial_model.get_layer(name=\"my_intermediate_layer\").output,\n",
    ")\n",
    "\n",
    "x = tf.ones((1, 250, 250, 3))\n",
    "features = feature_extractor(x)"
   ]
  },
  {
   "cell_type": "markdown",
   "id": "b7abe232",
   "metadata": {},
   "source": [
    "# Transfer Learning"
   ]
  },
  {
   "cell_type": "code",
   "execution_count": 39,
   "id": "39ff6182",
   "metadata": {},
   "outputs": [],
   "source": [
    "# 1st way: freeze certain layers\n",
    "model = keras.Sequential([\n",
    "    keras.Input(shape=(784, )),\n",
    "    layers.Dense(32, activation='relu'),\n",
    "    layers.Dense(32, activation='relu'),\n",
    "    layers.Dense(32, activation='relu'),\n",
    "    layers.Dense(10),\n",
    "])\n",
    "\n",
    "# Presumably you would want to first load pre-trained weights.\n",
    "model.load_weights(...)\n",
    "\n",
    "# Freeze all layers except the last one.\n",
    "for layer in model.layers[:-1]:\n",
    "    layer.trainable = False\n",
    "\n",
    "# Recompile and train (this will only update the weights of the last layer).\n",
    "model.compile(...)\n",
    "model.fit(...)\n"
   ]
  },
  {
   "cell_type": "code",
   "execution_count": null,
   "id": "1f5063bd",
   "metadata": {},
   "outputs": [],
   "source": [
    "# 2nd way: freeze entire model and put own model head on it\n",
    "# Load a convolutional base with pre-trained weights\n",
    "base_model = keras.applications.Xception(\n",
    "    weights='imagenet',\n",
    "    include_top=False,\n",
    "    pooling='avg')\n",
    "\n",
    "# Freeze the base model\n",
    "base_model.trainable = False\n",
    "\n",
    "# Use a Sequential model to add a trainable classifier on top\n",
    "model = keras.Sequential([\n",
    "    base_model,\n",
    "    layers.Dense(1000),\n",
    "])\n",
    "\n",
    "# Compile & train\n",
    "model.compile(...)\n",
    "model.fit(...)"
   ]
  },
  {
   "cell_type": "code",
   "execution_count": null,
   "id": "3a83e16c",
   "metadata": {},
   "outputs": [],
   "source": []
  }
 ],
 "metadata": {
  "kernelspec": {
   "display_name": "Python 3 (ipykernel)",
   "language": "python",
   "name": "python3"
  },
  "language_info": {
   "codemirror_mode": {
    "name": "ipython",
    "version": 3
   },
   "file_extension": ".py",
   "mimetype": "text/x-python",
   "name": "python",
   "nbconvert_exporter": "python",
   "pygments_lexer": "ipython3",
   "version": "3.11.9"
  }
 },
 "nbformat": 4,
 "nbformat_minor": 5
}
