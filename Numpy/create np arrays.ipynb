{
 "cells": [
  {
   "cell_type": "code",
   "execution_count": 1,
   "id": "9c61dc10",
   "metadata": {},
   "outputs": [],
   "source": [
    "import numpy as np"
   ]
  },
  {
   "cell_type": "markdown",
   "id": "8defb239",
   "metadata": {},
   "source": [
    "# Create from scratch"
   ]
  },
  {
   "cell_type": "code",
   "execution_count": 3,
   "id": "8de919bc",
   "metadata": {},
   "outputs": [],
   "source": [
    "a1 = np.array([2,4,6,8]) # creates a np array from a list\n",
    "a2 = np.array([[1,2,3],[4,5,6],[7,8,9]]) # same with a matrix\n",
    "a3 = np.zeros(10) # creates a 1 dim array consisting of 10 zeros\n",
    "a4 = np.ones(10) # same with ones\n",
    "a5 = np.zeros((2,3,4,2)) # both zeros and ones can also be multi dimensional\n",
    "a6 = np.empty((2, 3)) # only allocate memory (useful when you immediatly after fill it with values)\n",
    "a7 = np.full((3,3),5) # fills array with \n",
    "a8 = np.arange(0,21,3) # spaced values in interval [start,end)\n",
    "a9 = np.linspace(0,10,4) # returns 4 evenly spaced numbers over an interval [start,end]\n",
    "a10 = np.random.rand(3,3) # creates array with random values with uniform distribution over [0, 1]\n",
    "a11 = np.random.randn(3,3) # same but with normal distribution\n",
    "a12 = np.random.randint(1,100,10) # 10 random integers in range of [start,end)\n",
    "a13 = np.eye(4) # creates identity matrix"
   ]
  },
  {
   "cell_type": "code",
   "execution_count": 4,
   "id": "2e3f4846",
   "metadata": {},
   "outputs": [
    {
     "data": {
      "text/plain": [
       "array([[1., 0., 0., 0.],\n",
       "       [0., 1., 0., 0.],\n",
       "       [0., 0., 1., 0.],\n",
       "       [0., 0., 0., 1.]])"
      ]
     },
     "execution_count": 4,
     "metadata": {},
     "output_type": "execute_result"
    }
   ],
   "source": [
    "a13"
   ]
  },
  {
   "cell_type": "code",
   "execution_count": null,
   "id": "d4a0905f",
   "metadata": {},
   "outputs": [],
   "source": []
  }
 ],
 "metadata": {
  "kernelspec": {
   "display_name": "Python 3 (ipykernel)",
   "language": "python",
   "name": "python3"
  },
  "language_info": {
   "codemirror_mode": {
    "name": "ipython",
    "version": 3
   },
   "file_extension": ".py",
   "mimetype": "text/x-python",
   "name": "python",
   "nbconvert_exporter": "python",
   "pygments_lexer": "ipython3",
   "version": "3.11.9"
  }
 },
 "nbformat": 4,
 "nbformat_minor": 5
}
