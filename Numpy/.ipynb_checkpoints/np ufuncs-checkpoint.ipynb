{
 "cells": [
  {
   "cell_type": "code",
   "execution_count": 2,
   "id": "e968b4bd",
   "metadata": {},
   "outputs": [],
   "source": [
    "import numpy as np"
   ]
  },
  {
   "cell_type": "code",
   "execution_count": 8,
   "id": "a832f7a0",
   "metadata": {},
   "outputs": [],
   "source": [
    "a = np.array([1, 2, 3, 4])\n",
    "b = np.array([1, 2, 5, 1])"
   ]
  },
  {
   "cell_type": "code",
   "execution_count": 12,
   "id": "9ab2590e",
   "metadata": {},
   "outputs": [
    {
     "name": "stderr",
     "output_type": "stream",
     "text": [
      "/var/folders/wn/9bbldg212q3379hwtlymspp40000gn/T/ipykernel_11786/1940345014.py:12: RuntimeWarning: invalid value encountered in arcsin\n",
      "  a9 = np.arcsin(a) # arctan , arccos\n"
     ]
    }
   ],
   "source": [
    "# mathematical functions\n",
    "a1 = np.sqrt(a) # square root\n",
    "a2 = np.exp(a) # exp of a\n",
    "a3 = np.sin(a) # cos, tan\n",
    "a4 = np.log(a) # natural logarithm\n",
    "# Statistical Functions\n",
    "a5 = np.mean(a)\n",
    "a6 = np.std(a)\n",
    "a7 = np.median(a)\n",
    "a8 = np.quantile(a, 0.8) \n",
    "# Trigonometric Functions\n",
    "a9 = np.arcsin(a) # arctan , arccos\n",
    "# Bitwise Operations\n",
    "a10 = np.bitwise_and(a, b) # or , xor"
   ]
  },
  {
   "cell_type": "code",
   "execution_count": 14,
   "id": "cf0e4778",
   "metadata": {},
   "outputs": [
    {
     "data": {
      "text/plain": [
       "array([1, 2, 1, 0])"
      ]
     },
     "execution_count": 14,
     "metadata": {},
     "output_type": "execute_result"
    }
   ],
   "source": [
    "a10"
   ]
  },
  {
   "cell_type": "code",
   "execution_count": null,
   "id": "5ef1cf8c",
   "metadata": {},
   "outputs": [],
   "source": []
  }
 ],
 "metadata": {
  "kernelspec": {
   "display_name": "Python 3 (ipykernel)",
   "language": "python",
   "name": "python3"
  },
  "language_info": {
   "codemirror_mode": {
    "name": "ipython",
    "version": 3
   },
   "file_extension": ".py",
   "mimetype": "text/x-python",
   "name": "python",
   "nbconvert_exporter": "python",
   "pygments_lexer": "ipython3",
   "version": "3.11.9"
  }
 },
 "nbformat": 4,
 "nbformat_minor": 5
}
