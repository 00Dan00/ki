{
 "cells": [
  {
   "cell_type": "markdown",
   "id": "e41780e7",
   "metadata": {},
   "source": [
    "# NumPy Array Operations\n",
    "\n",
    "This notebook demonstrates various array operations in NumPy, including reshaping, appending, inserting, deleting elements, and using fancy indexing."
   ]
  },
  {
   "cell_type": "code",
   "execution_count": 2,
   "id": "7ca7df49",
   "metadata": {},
   "outputs": [
    {
     "name": "stdout",
     "output_type": "stream",
     "text": [
      "Original Array:\n",
      "[ 0  1  2  3  4  5  6  7  8  9 10 11]\n",
      "Shape: (12,)\n"
     ]
    }
   ],
   "source": [
    "import numpy as np\n",
    "\n",
    "# Creating an example array\n",
    "arr = np.arange(12)\n",
    "print(\"Original Array:\")\n",
    "print(arr)\n",
    "print(\"Shape:\", arr.shape)"
   ]
  },
  {
   "cell_type": "markdown",
   "id": "b36b0380",
   "metadata": {},
   "source": [
    "## Reshaping Arrays\n",
    "\n",
    "Reshaping changes the shape of an array without changing its data. It's useful for preparing data for operations that require a different shape."
   ]
  },
  {
   "cell_type": "code",
   "execution_count": 0,
   "id": "3f338fc8",
   "metadata": {},
   "outputs": [],
   "source": [
    "# Reshape to 2D array\n",
    "arr_reshape = arr.reshape(3, 4)\n",
    "print(\"Reshaped to 3x4:\")\n",
    "print(arr_reshape)\n",
    "print(\"New Shape:\", arr_reshape.shape)\n",
    "\n",
    "# Flatten array\n",
    "arr_flat = arr_reshape.flatten()\n",
    "print(\"Flattened Array:\", arr_flat)\n",
    "\n",
    "# Transpose array\n",
    "arr_transpose = arr_reshape.T\n",
    "print(\"Transposed Array:\")\n",
    "print(arr_transpose)"
   ]
  },
  {
   "cell_type": "markdown",
   "id": "efd3c2a8",
   "metadata": {},
   "source": [
    "## Appending and Inserting Elements\n",
    "\n",
    "Appending and inserting elements allow you to add new elements to an existing array."
   ]
  },
  {
   "cell_type": "code",
   "execution_count": 0,
   "id": "23392809",
   "metadata": {},
   "outputs": [],
   "source": [
    "# Append elements\n",
    "arr_append = np.append(arr, [12, 13])\n",
    "print(\"Appended Array:\", arr_append)\n",
    "\n",
    "# Insert elements at specific index\n",
    "arr_insert = np.insert(arr, 5, [10, 11])\n",
    "print(\"Inserted Array:\", arr_insert)"
   ]
  },
  {
   "cell_type": "markdown",
   "id": "de168423",
   "metadata": {},
   "source": [
    "## Deleting Elements\n",
    "\n",
    "Deleting elements allows you to remove specific elements from an array."
   ]
  },
  {
   "cell_type": "code",
   "execution_count": 0,
   "id": "846a9926",
   "metadata": {},
   "outputs": [],
   "source": [
    "# Delete elements at specific index\n",
    "arr_delete = np.delete(arr, [0, 1])\n",
    "print(\"Deleted Array:\", arr_delete)"
   ]
  },
  {
   "cell_type": "code",
   "execution_count": null,
   "id": "b28d0994",
   "metadata": {},
   "outputs": [],
   "source": []
  }
 ],
 "metadata": {
  "kernelspec": {
   "display_name": "Python 3 (ipykernel)",
   "language": "python",
   "name": "python3"
  },
  "language_info": {
   "codemirror_mode": {
    "name": "ipython",
    "version": 3
   },
   "file_extension": ".py",
   "mimetype": "text/x-python",
   "name": "python",
   "nbconvert_exporter": "python",
   "pygments_lexer": "ipython3",
   "version": "3.11.9"
  }
 },
 "nbformat": 4,
 "nbformat_minor": 5
}
