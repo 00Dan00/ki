{
 "cells": [
  {
   "cell_type": "markdown",
   "id": "058b9731",
   "metadata": {},
   "source": [
    "# Array Dimensions"
   ]
  },
  {
   "cell_type": "code",
   "execution_count": 161,
   "id": "6c449d2d",
   "metadata": {},
   "outputs": [
    {
     "name": "stdout",
     "output_type": "stream",
     "text": [
      "(6,)\n",
      "(2, 3)\n"
     ]
    }
   ],
   "source": [
    "# Shape\n",
    "a = np.array([1,2,3,4,5,6])\n",
    "print(a.shape) # dimensions of array\n",
    "a2 = a.reshape(2,3)\n",
    "print(a2.shape) # after reshape"
   ]
  },
  {
   "cell_type": "code",
   "execution_count": 201,
   "id": "eadfd470",
   "metadata": {},
   "outputs": [
    {
     "name": "stdout",
     "output_type": "stream",
     "text": [
      "Original array shape: (2, 3)\n",
      "New array shape: (1, 2, 3)\n",
      "[[[1 2 3]\n",
      "  [4 5 6]]]\n"
     ]
    }
   ],
   "source": [
    "# newaxis\n",
    "arr = np.array([[1, 2, 3],[4,5,6]])  # 1D array\n",
    "new_arr = arr[np.newaxis,:]  # Adding new axis along the defined position\n",
    "# np.newaxis,: adds one around  (1,2,3)\n",
    "# :,np_newaxis adds one in the middle (2,1,3)\n",
    "# :,:,np_newaxis adds one in the innerst (2,3,1)\n",
    "print(\"Original array shape:\", arr.shape)  # Output: (3,)\n",
    "print(\"New array shape:\", new_arr.shape)  # Output: (1, 3)\n",
    "print(new_arr)"
   ]
  },
  {
   "cell_type": "code",
   "execution_count": 221,
   "id": "b12e8680",
   "metadata": {},
   "outputs": [
    {
     "data": {
      "text/plain": [
       "array([1, 2, 3])"
      ]
     },
     "execution_count": 221,
     "metadata": {},
     "output_type": "execute_result"
    }
   ],
   "source": [
    "# Squeeze\n",
    "arr = np.array([[[1], [2], [3]]])\n",
    "arr.squeeze() # removes single dimensions"
   ]
  },
  {
   "cell_type": "code",
   "execution_count": 222,
   "id": "1e003d27",
   "metadata": {
    "scrolled": true
   },
   "outputs": [
    {
     "name": "stdout",
     "output_type": "stream",
     "text": [
      "[1 2 3 4]\n",
      "[1 2 3 4]\n"
     ]
    }
   ],
   "source": [
    "# flatten and ravel\n",
    "arr = np.array([[1, 2], [3, 4]])\n",
    "print(arr.flatten()) \n",
    "print(arr.ravel()) \n",
    "# both flatten and ravel return a 1-Dim Array but flatten returns a copy and ravel a view \n",
    "# (changing the raveled array also changes the original)"
   ]
  },
  {
   "cell_type": "code",
   "execution_count": 223,
   "id": "6c0b06c3",
   "metadata": {},
   "outputs": [
    {
     "name": "stdout",
     "output_type": "stream",
     "text": [
      "Original 3D array:\n",
      " [[[1 2]\n",
      "  [3 4]]\n",
      "\n",
      " [[5 6]\n",
      "  [7 8]]]\n",
      "Swapped array using swapaxes(0, 1):\n",
      " [[[1 2]\n",
      "  [5 6]]\n",
      "\n",
      " [[3 4]\n",
      "  [7 8]]]\n"
     ]
    }
   ],
   "source": [
    "# Swap axes\n",
    "arr_3d = np.array([[[1, 2], [3, 4]], [[5, 6], [7, 8]]])\n",
    "print(\"Original 3D array:\\n\", arr_3d)\n",
    "\n",
    "swapped_arr_3d = arr_3d.swapaxes(0, 1)\n",
    "print(\"Swapped array using swapaxes(0, 1):\\n\", swapped_arr_3d)\n"
   ]
  },
  {
   "cell_type": "code",
   "execution_count": 147,
   "id": "9fc78f01",
   "metadata": {},
   "outputs": [],
   "source": [
    "A = np.array([[3,2,1],[5,-5,4],[6,0,1]])\n",
    "b1 = np.array([1,2,3])\n",
    "b2 = np.array([-1,2,-5])"
   ]
  },
  {
   "cell_type": "code",
   "execution_count": 149,
   "id": "db123090",
   "metadata": {},
   "outputs": [
    {
     "name": "stdout",
     "output_type": "stream",
     "text": [
      "[10  7  9]\n"
     ]
    }
   ],
   "source": [
    "print(A@b1) # vector multiplication"
   ]
  },
  {
   "cell_type": "code",
   "execution_count": 150,
   "id": "69793a69",
   "metadata": {},
   "outputs": [
    {
     "data": {
      "text/plain": [
       "array([[ 3,  5,  6],\n",
       "       [ 2, -5,  0],\n",
       "       [ 1,  4,  1]])"
      ]
     },
     "execution_count": 150,
     "metadata": {},
     "output_type": "execute_result"
    }
   ],
   "source": [
    "A.T # transpose np.transpose(A)"
   ]
  },
  {
   "cell_type": "code",
   "execution_count": 152,
   "id": "3fa51fd7",
   "metadata": {},
   "outputs": [
    {
     "data": {
      "text/plain": [
       "-12"
      ]
     },
     "execution_count": 152,
     "metadata": {},
     "output_type": "execute_result"
    }
   ],
   "source": [
    "np.dot(b1,b2) # dot product of 2 vectors"
   ]
  },
  {
   "cell_type": "code",
   "execution_count": 154,
   "id": "7eff3a48",
   "metadata": {
    "scrolled": false
   },
   "outputs": [
    {
     "data": {
      "text/plain": [
       "array([-16,   2,   4])"
      ]
     },
     "execution_count": 154,
     "metadata": {},
     "output_type": "execute_result"
    }
   ],
   "source": [
    "np.cross(b1,b2) # cross product of 2 vectors"
   ]
  },
  {
   "cell_type": "code",
   "execution_count": 113,
   "id": "4229722f",
   "metadata": {
    "scrolled": true
   },
   "outputs": [
    {
     "name": "stdout",
     "output_type": "stream",
     "text": [
      "[[5 5 5 5]\n",
      " [6 6 6 6]\n",
      " [7 7 7 7]]\n"
     ]
    }
   ],
   "source": []
  },
  {
   "cell_type": "markdown",
   "id": "b7a314e1",
   "metadata": {},
   "source": [
    "# Calculus/Stastics"
   ]
  },
  {
   "cell_type": "code",
   "execution_count": 34,
   "id": "bda5e7eb",
   "metadata": {},
   "outputs": [],
   "source": [
    "a = 2*np.random.randn(10000) + 10"
   ]
  },
  {
   "cell_type": "code",
   "execution_count": 35,
   "id": "893e524b",
   "metadata": {},
   "outputs": [
    {
     "data": {
      "text/plain": [
       "10.003442934355494"
      ]
     },
     "execution_count": 35,
     "metadata": {},
     "output_type": "execute_result"
    }
   ],
   "source": [
    "np.mean(a)"
   ]
  },
  {
   "cell_type": "code",
   "execution_count": 36,
   "id": "75e458f6",
   "metadata": {},
   "outputs": [
    {
     "data": {
      "text/plain": [
       "1.993617434948944"
      ]
     },
     "execution_count": 36,
     "metadata": {},
     "output_type": "execute_result"
    }
   ],
   "source": [
    "np.std(a)"
   ]
  },
  {
   "cell_type": "code",
   "execution_count": 39,
   "id": "3c6b7ed5",
   "metadata": {},
   "outputs": [
    {
     "data": {
      "text/plain": [
       "11.69392436028473"
      ]
     },
     "execution_count": 39,
     "metadata": {},
     "output_type": "execute_result"
    }
   ],
   "source": [
    "np.percentile(a, 80)"
   ]
  },
  {
   "cell_type": "code",
   "execution_count": 62,
   "id": "6bdbc04b",
   "metadata": {},
   "outputs": [],
   "source": [
    "import matplotlib.pyplot as plt"
   ]
  },
  {
   "cell_type": "code",
   "execution_count": 65,
   "id": "0778972a",
   "metadata": {},
   "outputs": [
    {
     "data": {
      "text/plain": [
       "[<matplotlib.lines.Line2D at 0x12f456410>]"
      ]
     },
     "execution_count": 65,
     "metadata": {},
     "output_type": "execute_result"
    },
    {
     "data": {
      "image/png": "[encoded data removed]",
      "text/plain": [
       "<Figure size 640x480 with 1 Axes>"
      ]
     },
     "metadata": {},
     "output_type": "display_data"
    }
   ],
   "source": [
    "x = np.linspace(0,10,10001)\n",
    "y = np.exp(-x/10) * np.sin(x)\n",
    "plt.plot(x,y)"
   ]
  },
  {
   "cell_type": "code",
   "execution_count": 77,
   "id": "c208b322",
   "metadata": {},
   "outputs": [
    {
     "data": {
      "text/plain": [
       "[<matplotlib.lines.Line2D at 0x12f554d10>]"
      ]
     },
     "execution_count": 77,
     "metadata": {},
     "output_type": "execute_result"
    },
    {
     "data": {
      "image/png": "[encoded data removed]",
      "text/plain": [
       "<Figure size 640x480 with 1 Axes>"
      ]
     },
     "metadata": {},
     "output_type": "display_data"
    }
   ],
   "source": [
    "# derivative\n",
    "plt.plot(np.gradient(y,x))"
   ]
  },
  {
   "cell_type": "code",
   "execution_count": 82,
   "id": "76be962c",
   "metadata": {},
   "outputs": [
    {
     "data": {
      "text/plain": [
       "array([1.472, 4.613, 7.755])"
      ]
     },
     "execution_count": 82,
     "metadata": {},
     "output_type": "execute_result"
    }
   ],
   "source": [
    "# find roots (where gradient goes from + to -)\n",
    "# multiply all consecutive points\n",
    "dydx = np.gradient(y,x)\n",
    "x[1:][dydx[1:] * dydx[:-1] < 0]"
   ]
  },
  {
   "cell_type": "markdown",
   "id": "07af9fb7",
   "metadata": {},
   "source": [
    "# Meshgrid"
   ]
  },
  {
   "cell_type": "code",
   "execution_count": 135,
   "id": "843bbd4f",
   "metadata": {},
   "outputs": [],
   "source": [
    "x = np.array([1, 2, 3, 4])\n",
    "y = np.array([5, 6, 7])\n",
    "\n",
    "X, Y = np.meshgrid(x, y)\n",
    "Z = X**2 + Y**2"
   ]
  },
  {
   "cell_type": "code",
   "execution_count": 142,
   "id": "6eecc838",
   "metadata": {},
   "outputs": [
    {
     "name": "stdout",
     "output_type": "stream",
     "text": [
      "[[1 2 3 4]\n",
      " [1 2 3 4]\n",
      " [1 2 3 4]]\n"
     ]
    }
   ],
   "source": [
    "# X and Y are 2D Arrays created from 1d arrays.\n",
    "print(X)"
   ]
  },
  {
   "cell_type": "code",
   "execution_count": 143,
   "id": "218de5d6",
   "metadata": {},
   "outputs": [
    {
     "data": {
      "text/plain": [
       "<matplotlib.colorbar.Colorbar at 0x148398b10>"
      ]
     },
     "execution_count": 143,
     "metadata": {},
     "output_type": "execute_result"
    },
    {
     "data": {
      "image/png": "[encoded data removed]",
      "text/plain": [
       "<Figure size 640x480 with 2 Axes>"
      ]
     },
     "metadata": {},
     "output_type": "display_data"
    }
   ],
   "source": [
    "plt.contourf(X, Y, Z, cmap='viridis')\n",
    "plt.colorbar()  # Color bar showing the values of z"
   ]
  },
  {
   "cell_type": "markdown",
   "id": "39fa1306",
   "metadata": {},
   "source": [
    "# Matrix Operations"
   ]
  },
  {
   "cell_type": "markdown",
   "id": "aa2098ee",
   "metadata": {},
   "source": [
    "# System of equations"
   ]
  },
  {
   "cell_type": "code",
   "execution_count": null,
   "id": "5b0fc6dd",
   "metadata": {},
   "outputs": [],
   "source": []
  }
 ],
 "metadata": {
  "kernelspec": {
   "display_name": "Python 3 (ipykernel)",
   "language": "python",
   "name": "python3"
  },
  "language_info": {
   "codemirror_mode": {
    "name": "ipython",
    "version": 3
   },
   "file_extension": ".py",
   "mimetype": "text/x-python",
   "name": "python",
   "nbconvert_exporter": "python",
   "pygments_lexer": "ipython3",
   "version": "3.11.9"
  }
 },
 "nbformat": 4,
 "nbformat_minor": 5
}
